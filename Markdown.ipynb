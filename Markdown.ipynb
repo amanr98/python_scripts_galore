{
 "cells": [
  {
   "cell_type": "markdown",
   "id": "7cbcb959-f3d0-423d-8e71-161f8f230be4",
   "metadata": {},
   "source": [
    "# Heading H1\n",
    "## Heading H2\n",
    "### Heading H3\n",
    "#### Heading H4\n",
    "##### Heading H5\n",
    "###### Heading H6"
   ]
  },
  {
   "cell_type": "markdown",
   "id": "8b88daef-9cc6-4eb7-9b6d-c9df66cd8042",
   "metadata": {},
   "source": [
    "# List\n",
    "\n",
    "## Ordered List\n",
    "1. First\n",
    "2. Second\n",
    "3. Third\n",
    "\n",
    "## Unordered List\n",
    "\n",
    "* Bullet point using '*'\n",
    "- Bullet point using '-'\n",
    "+ Bullet point using '+'\n",
    "  "
   ]
  },
  {
   "cell_type": "markdown",
   "id": "9c6e243b-2990-46a0-b990-f4f80390b582",
   "metadata": {},
   "source": [
    "# BlockQuotes\n",
    "\n",
    "> print('1st line Quote')\n",
    ">\n",
    "> print('2nd line Quote')\n",
    "> > print('2nd line Nested Quote')"
   ]
  },
  {
   "cell_type": "markdown",
   "id": "2a4b9d6d-d583-4b62-b849-3dd8e87e6204",
   "metadata": {},
   "source": [
    "# Horizontal Lines\n",
    "\n",
    "## Line by using '---'\n",
    "---\n",
    "\n",
    "## Line by using '***'\n",
    "***\n",
    "\n",
    "## Line by using '___'\n",
    "___"
   ]
  },
  {
   "cell_type": "markdown",
   "id": "26ecd212-a0fc-4ac4-b05e-d9885e041df1",
   "metadata": {},
   "source": [
    "# Inline Elements\n",
    "\n",
    "## Bold : **Element** - by using \"** **\"\n",
    "## Italic : *Element* - by using \"* *\"\n",
    "## Links : [Element]()\n",
    "## Images : ![alt text](url)\n",
    "## Inline Code : (`Element`)"
   ]
  },
  {
   "cell_type": "markdown",
   "id": "f0deca1d-f4f1-4ea9-abbe-2028f3302acd",
   "metadata": {},
   "source": [
    "# Table\n",
    "\n",
    "|name |age |address |\n",
    "|-----|----|--------|\n",
    "|Row1 |Row2|Row3    |"
   ]
  }
 ],
 "metadata": {
  "kernelspec": {
   "display_name": "Python 3 (ipykernel)",
   "language": "python",
   "name": "python3"
  },
  "language_info": {
   "codemirror_mode": {
    "name": "ipython",
    "version": 3
   },
   "file_extension": ".py",
   "mimetype": "text/x-python",
   "name": "python",
   "nbconvert_exporter": "python",
   "pygments_lexer": "ipython3",
   "version": "3.11.7"
  }
 },
 "nbformat": 4,
 "nbformat_minor": 5
}
