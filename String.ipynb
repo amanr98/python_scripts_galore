{
 "cells": [
  {
   "cell_type": "markdown",
   "id": "1d1aa4a8-79e3-4285-85c1-656f4440e9c2",
   "metadata": {},
   "source": [
    "# ***Strings in Python***\n",
    "* ### String in python is a sequence of character. Anything inside quotes python treat as a **String**.\n",
    "* ### String is **immutable**,  means ones created cannot be changed\n",
    "* ### String in python are **Case Sensitive**"
   ]
  },
  {
   "cell_type": "markdown",
   "id": "cd5289c9-83f8-40c1-aced-65397408db59",
   "metadata": {},
   "source": [
    "## **We can define String in all the quotes**"
   ]
  },
  {
   "cell_type": "code",
   "execution_count": 8,
   "id": "63e57d47-e6a1-4eff-bcaa-cdf46bfd4dc0",
   "metadata": {},
   "outputs": [],
   "source": [
    "s1 = 'Single Quote'\n",
    "s2 = \"Double Quote\"\n",
    "s3 = \"Single 'Quotes'\" #Quote inside Quote"
   ]
  },
  {
   "cell_type": "code",
   "execution_count": 9,
   "id": "9208ba9b-fae1-44a3-bbfa-c26730ee7731",
   "metadata": {},
   "outputs": [
    {
     "name": "stdout",
     "output_type": "stream",
     "text": [
      "Single Quote\n",
      "Double Quote\n",
      "Single 'Quotes'\n"
     ]
    }
   ],
   "source": [
    "print(s1)\n",
    "print(s2)\n",
    "print(s3)"
   ]
  },
  {
   "cell_type": "markdown",
   "id": "124cd162-9c1a-40ae-b174-dcef10d2cb38",
   "metadata": {},
   "source": [
    "## **Accessing Characters in String**"
   ]
  },
  {
   "cell_type": "code",
   "execution_count": 17,
   "id": "5b68c79f-520c-4e04-a75c-809c7984bc54",
   "metadata": {},
   "outputs": [
    {
     "name": "stdout",
     "output_type": "stream",
     "text": [
      "S\n",
      "e\n"
     ]
    }
   ],
   "source": [
    "print(s1[0])               # printing 0th index character from variable s1.\n",
    "print(s1[-1])              # printing 1st character from last by giving index value as [-1]"
   ]
  },
  {
   "cell_type": "markdown",
   "id": "d848f633-efc1-4f73-bd46-61b292c33123",
   "metadata": {},
   "source": [
    "## **String Slicing**"
   ]
  },
  {
   "cell_type": "code",
   "execution_count": 38,
   "id": "97b63192-882c-43de-ba7f-5725da2d09b6",
   "metadata": {},
   "outputs": [],
   "source": [
    "s4 = \"Python String Slicing\""
   ]
  },
  {
   "cell_type": "code",
   "execution_count": 48,
   "id": "991a573c-32c4-44e4-b0f7-ade020c4b648",
   "metadata": {},
   "outputs": [
    {
     "name": "stdout",
     "output_type": "stream",
     "text": [
      "ytho\n",
      "Pytho\n",
      "n String Slicing\n",
      "gnicilS gnirtS nohtyP\n"
     ]
    }
   ],
   "source": [
    "print(s4[1 : 5])             # Character from index 1 to 4                  ans:- ytho\n",
    "print(s4[ :5])               # character from index start to 4              ans:- Pytho\n",
    "print(s4[5 : ])              # character from index 5 to end of the string  ans :- n String Slicing\n",
    "print(s4[ :: -1])            #it will reverse hole String                   ans:- gnicilS gnirtS nohtyP"
   ]
  },
  {
   "cell_type": "markdown",
   "id": "5f74fd74-5107-4bfa-ac42-a99b32bc87e6",
   "metadata": {},
   "source": [
    "## **String Operations**"
   ]
  },
  {
   "cell_type": "code",
   "execution_count": 49,
   "id": "e93cbdae-7dda-49bc-a9d7-e080b0e91d54",
   "metadata": {},
   "outputs": [
    {
     "name": "stdout",
     "output_type": "stream",
     "text": [
      "Hello World\n",
      "Hello Hello Hello \n",
      "True\n",
      "True\n"
     ]
    }
   ],
   "source": [
    "string1 = \"Hello \"\n",
    "string2 = \"World\"\n",
    "\n",
    "print(string1+ \"\" +string2)                       # \" + \" operator use for concatenation       ans:- Hello World\n",
    "\n",
    "print(string1 * 3)                                # \" * \" operator use for multiply string with given number       ans:- Hello Hello Hello\n",
    "\n",
    "print(\"H\" in string1)                             # \" in \" operator search the specific charater if present then true if not then false   ans:- True\n",
    "print(\"Hello\" in string1)                         # also check hole word         ans:- True\n"
   ]
  },
  {
   "cell_type": "markdown",
   "id": "ca768b07-479f-4b51-bd21-62e7a76c2770",
   "metadata": {},
   "source": [
    "## ***Python Methods***"
   ]
  },
  {
   "cell_type": "markdown",
   "id": "43b5733e-4b6b-4511-8ec5-81eb0a31c4b6",
   "metadata": {},
   "source": [
    "* ### Case Convertion Methods"
   ]
  },
  {
   "cell_type": "code",
   "execution_count": 50,
   "id": "9bf255f9-b062-40be-b91f-6239313dc8a6",
   "metadata": {},
   "outputs": [
    {
     "name": "stdout",
     "output_type": "stream",
     "text": [
      "PYTHON METHODS\n",
      "python methods\n",
      "Python methods\n",
      "Python Methods\n",
      "pYTHON mETHODS\n"
     ]
    }
   ],
   "source": [
    "s = \"Python Methods\"\n",
    "print(s.upper())                                    # convert hole string to upper case     ans:- PYTHON METHODS\n",
    "print(s.lower())                                    # convert hole string to lower case     ans:- python methods\n",
    "print(s.capitalize())                               # capitalize 1st letter                 ans:- Python methods\n",
    "print(s.title())                                    # capitalize 1st letter of each word    ans:- Python Methods\n",
    "print(s.swapcase())                                 # swap hole string case                 ans:- pYTHON mETHODS\n"
   ]
  },
  {
   "cell_type": "markdown",
   "id": "1cdc76fb-b43a-4f3b-8887-e08436d4ecad",
   "metadata": {},
   "source": [
    "* ### String Checking"
   ]
  },
  {
   "cell_type": "code",
   "execution_count": 51,
   "id": "2e46efd1-8a65-411d-825f-76ce933e3907",
   "metadata": {},
   "outputs": [
    {
     "name": "stdout",
     "output_type": "stream",
     "text": [
      "True\n",
      "False\n"
     ]
    }
   ],
   "source": [
    "c1 = \"Checking\"\n",
    "c2 = \"Checking123\"\n",
    "\n",
    "print(c1.isalpha())                                  # string without numeric values  ans:- True\n",
    "print(c2.isalpha())                                  # string with numeric value      ans:- False\n",
    "\n"
   ]
  },
  {
   "cell_type": "code",
   "execution_count": null,
   "id": "2a7d8f54-b783-4f0d-ac72-68aff63eddcc",
   "metadata": {},
   "outputs": [],
   "source": []
  }
 ],
 "metadata": {
  "kernelspec": {
   "display_name": "Python 3 (ipykernel)",
   "language": "python",
   "name": "python3"
  },
  "language_info": {
   "codemirror_mode": {
    "name": "ipython",
    "version": 3
   },
   "file_extension": ".py",
   "mimetype": "text/x-python",
   "name": "python",
   "nbconvert_exporter": "python",
   "pygments_lexer": "ipython3",
   "version": "3.11.7"
  }
 },
 "nbformat": 4,
 "nbformat_minor": 5
}
