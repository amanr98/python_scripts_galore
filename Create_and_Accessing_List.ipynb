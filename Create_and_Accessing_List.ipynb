{
 "cells": [
  {
   "cell_type": "markdown",
   "id": "374b00e9-da30-4ce9-9c0c-9142e9715915",
   "metadata": {},
   "source": [
    "# **Creating List**\n",
    "\n",
    "* ### **[]** :- This is the basic method we use to create list.\n",
    "* ### **list()** :- List() function is to create list from various ways like tuple, set, dictionary to list also use different method inside list function like range().\n",
    "* ### **list(range())** :- Using range() funtion inside list() funtion.\n",
    "* ### __* operator__ :- It is used to multiply list and return new multiplied list\n",
    "* ### **list(\"aman\")** :- When using list() for string without bracket it will seperate all character and put it in new string.\n",
    "* ### **list([\"aman\"])** :- It will create list for string.\n",
    "* ### **copy()** :- Copy() function to copy one list to another list"
   ]
  },
  {
   "cell_type": "code",
   "execution_count": 120,
   "id": "3fb4a356-b51b-4c96-a667-191ce4b6b18a",
   "metadata": {},
   "outputs": [
    {
     "name": "stdout",
     "output_type": "stream",
     "text": [
      "[1, 2, 3, 4, 5, 6, 7, 8, 9, 10]\n",
      "[1, 2, 3, 4, 5, 6, 7, 8, 9, 10]\n",
      "[1, 2, 3, 4, 5, 6, 7, 8, 9, 10]\n",
      "[5, 4, 5, 4, 5, 4, 5, 4, 5, 4]\n",
      "['h', 'e', 'l', 'l', 'o']\n",
      "['hello']\n",
      "['hello']\n",
      "[1, 2, 3, 4, 5, 6, 7, 8, 9, 10]\n",
      "[1, 2, 3, 4, 5, 6, 7, 8, 9, 10]\n",
      "[1, 2, 3, 4, 5, 6, 7, 8, 9, 10]\n",
      "[1, 2, 3, 4, 5, 6, 7, 8, 9, 10]\n",
      "['a', 'b', 'c']\n",
      "[1, 2, 3]\n",
      "[1, 2, 3, 4, 5, 6, 7, 8, 9, 10]\n"
     ]
    }
   ],
   "source": [
    "list1 = [1,2,3,4,5,6,7,8,9,10]                             # basic method using square brackets.\n",
    "print(list1)        # [1, 2, 3, 4, 5, 6, 7, 8, 9, 10]\n",
    "\n",
    "list2 = list([1,2,3,4,5,6,7,8,9,10])                       # using list() function.\n",
    "print(list2)        # [1, 2, 3, 4, 5, 6, 7, 8, 9, 10]\n",
    "\n",
    "list3 = list(range(1,10+1))                                # using range() inside list() function.\n",
    "print(list3)        # [1, 2, 3, 4, 10, 6, 7, 8, 9, 5]\n",
    "\n",
    "list4 = [5,4] * 5                                          # using multiplying ( * ) operator.\n",
    "print(list4)        # [5, 5, 5, 5, 5]\n",
    "\n",
    "list5 = list(\"hello\")                                      # creating list from string \" Without using square brackets inside list will seperate hole word into a list \" \n",
    "print(list5)        # ['h', 'e', 'l', 'l', 'o', 'w']\n",
    "\n",
    "list6 = list([\"hello\"])                                    # list() function brackets will create string with given string values.\n",
    "print(list6)        # ['hello']\n",
    "\n",
    "list7 = list6.copy()                                       # using copy function\n",
    "print(list7)        # ['hello']\n",
    "\n",
    "list8 = []                                            \n",
    "for x in range(10):                                        # using for loop\n",
    "    list8.append(x+1);\n",
    "print(list8)       # [1, 2, 3, 4, 5, 6, 7, 8, 9, 10]\n",
    "\n",
    "list9 = [x+1 for x in range(10)]                           # using list Comprehension \n",
    "print(list9)       # [1, 2, 3, 4, 5, 6, 7, 8, 9, 10]\n",
    "\n",
    "list10 = list((1,2,3,4,5,6,7,8,9,10))                      # creating list from tuple\n",
    "print(list10)      # [1, 2, 3, 4, 5, 6, 7, 8, 9, 10]\n",
    "\n",
    "l = (1, 2, 3, 4, 5, 6, 7, 8, 9, 10)\n",
    "list11 = [*l]\n",
    "print(list11)\n",
    "\n",
    "d = {'a': 1, 'b': 2, 'c': 3}\n",
    "list12 = list(d.keys())                                   # creating list from dictionary keys\n",
    "print(list12)       # ['a', 'b', 'c']\n",
    "\n",
    "list13 = list(d.values())                                 # creating lsit from dictionary values\n",
    "print(list13)       # [1, 2, 3]\n",
    "\n",
    "lset = {1,2,3,4,5,7,6,8,9,10}                             \n",
    "list14 = list(lset)                                       # creating list from set\n",
    "print(list14)       # [1, 2, 3, 4, 5, 6, 7, 8, 9, 10]\n"
   ]
  },
  {
   "cell_type": "code",
   "execution_count": null,
   "id": "0c12ee0c-a4f4-417b-bca2-30c514404113",
   "metadata": {},
   "outputs": [],
   "source": []
  }
 ],
 "metadata": {
  "kernelspec": {
   "display_name": "Python [conda env:base] *",
   "language": "python",
   "name": "conda-base-py"
  },
  "language_info": {
   "codemirror_mode": {
    "name": "ipython",
    "version": 3
   },
   "file_extension": ".py",
   "mimetype": "text/x-python",
   "name": "python",
   "nbconvert_exporter": "python",
   "pygments_lexer": "ipython3",
   "version": "3.12.7"
  }
 },
 "nbformat": 4,
 "nbformat_minor": 5
}
