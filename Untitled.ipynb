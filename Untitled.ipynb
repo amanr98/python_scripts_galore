{
 "cells": [
  {
   "cell_type": "markdown",
   "id": "064e3263-8b8a-40a7-b92f-add60da3b204",
   "metadata": {},
   "source": [
    "# **Tuples in Python**"
   ]
  },
  {
   "cell_type": "code",
   "execution_count": null,
   "id": "7676d8f8-541e-415c-bc8f-41d3e2a15ae8",
   "metadata": {},
   "outputs": [],
   "source": []
  },
  {
   "cell_type": "code",
   "execution_count": null,
   "id": "2c0d2097-b7b6-4e7a-ace1-ce82d0feeb96",
   "metadata": {},
   "outputs": [],
   "source": []
  },
  {
   "cell_type": "code",
   "execution_count": null,
   "id": "c6810265-2674-4045-8dd1-e6748dd4ad1c",
   "metadata": {},
   "outputs": [],
   "source": []
  },
  {
   "cell_type": "code",
   "execution_count": null,
   "id": "b15e2630-39c1-451a-9ee2-6437743c76ce",
   "metadata": {},
   "outputs": [],
   "source": []
  },
  {
   "cell_type": "code",
   "execution_count": null,
   "id": "1c6788df-be3a-4859-a51f-e1af5ff17b92",
   "metadata": {},
   "outputs": [],
   "source": []
  }
 ],
 "metadata": {
  "kernelspec": {
   "display_name": "Python [conda env:base] *",
   "language": "python",
   "name": "conda-base-py"
  },
  "language_info": {
   "codemirror_mode": {
    "name": "ipython",
    "version": 3
   },
   "file_extension": ".py",
   "mimetype": "text/x-python",
   "name": "python",
   "nbconvert_exporter": "python",
   "pygments_lexer": "ipython3",
   "version": "3.12.7"
  }
 },
 "nbformat": 4,
 "nbformat_minor": 5
}
