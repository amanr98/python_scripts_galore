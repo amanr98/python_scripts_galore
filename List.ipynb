{
 "cells": [
  {
   "cell_type": "markdown",
   "id": "5e4f2892-1518-4cd3-9467-e2bdff9dec65",
   "metadata": {},
   "source": [
    "# **Python List**\n",
    "* ### In Python, List are ordered we can do indexing here.\n",
    "* ### List are **Mutable**, we can add and remove elements from list.\n",
    "* ### List **Allow Duplicates**.\n",
    "* ### List is **Flexible**, it can hold different data types."
   ]
  },
  {
   "cell_type": "markdown",
   "id": "ef1ed9ee-2741-43e7-87a2-32596c0de4ae",
   "metadata": {},
   "source": [
    "## **Creating List**\n",
    "* ### Lists are created using **Square Brackets []**"
   ]
  },
  {
   "cell_type": "code",
   "execution_count": 16,
   "id": "1f32a08a-2bed-4d13-a4be-0100b8524de3",
   "metadata": {},
   "outputs": [
    {
     "name": "stdout",
     "output_type": "stream",
     "text": [
      "[]\n",
      "[]\n",
      "[1, 2, 3, 4, 5, 6, 7, 8, 9, 10]\n",
      "['nagpur', 'pune', 'mumbai']\n",
      "[1, 2, 4, 'Nagpur', 5.34, 'pune', False, 2, True, 'Mumbai']\n",
      "[[1, 2, 3, 4, 5], ['a', 'b', 'c'], [True, False]]\n",
      "[0, 1, 2, 3, 4, 5, 6, 7, 8, 9]\n",
      "[2, 4, 6, 8, 10, 12, 14, 16, 18]\n"
     ]
    }
   ],
   "source": [
    "list1 = []                 # creating empty list\n",
    "print(list1)               # []\n",
    "\n",
    "list1 = list()             # creating empty list using list constructor\n",
    "print(list1)               # []\n",
    "\n",
    "nums = [1,2,3,4,5,6,7,8,9,10]                    # lisst of integer values\n",
    "print(nums)                                      # [1, 2, 3, 4, 5, 6, 7, 8, 9, 10]\n",
    "\n",
    "strs = [\"nagpur\",\"pune\",\"mumbai\"]                # list of string\n",
    "print(strs)                                      # ['nagpur', 'pune', 'mumbai']\n",
    "\n",
    "mixs = [1,2,4,\"Nagpur\",5.34,\"pune\",False,2,True,\"Mumbai\"]         # list of mixed data types\n",
    "print(mixs)                                                       # [1, 2, 4, 'Nagpur', 5.34, 'pune', False, 2, True, 'Mumbai']\n",
    "\n",
    "nested_list = [[1,2,3,4,5],[\"a\",\"b\",\"c\"],[True,False]]            # creating nested list -> list inside list \n",
    "print(nested_list)                                                # [[1, 2, 3, 4, 5], ['a', 'b', 'c'], [True, False]]\n",
    "\n",
    "list1 = list(range(10))                    # list will create from values between 0 to 9\n",
    "print(list1)                               # [0, 1, 2, 3, 4, 5, 6, 7, 8, 9]\n",
    "\n",
    "list1 = list(range(2,20,2))                # by giving 3 parameter in range will define 3 thing [start,end,differance]\n",
    "print(list1)                               #[2, 4, 6, 8, 10, 12, 14, 16, 18]"
   ]
  },
  {
   "cell_type": "markdown",
   "id": "7bcb3cf7-ee7c-4224-a20b-8fd8a23aa736",
   "metadata": {},
   "source": [
    "## **Accessing Elements in List**"
   ]
  },
  {
   "cell_type": "code",
   "execution_count": 23,
   "id": "77244645-0915-49e7-90b2-fe646c48891e",
   "metadata": {},
   "outputs": [
    {
     "name": "stdout",
     "output_type": "stream",
     "text": [
      "3\n",
      "9\n"
     ]
    },
    {
     "ename": "IndexError",
     "evalue": "list index out of range",
     "output_type": "error",
     "traceback": [
      "\u001b[1;31m---------------------------------------------------------------------------\u001b[0m",
      "\u001b[1;31mIndexError\u001b[0m                                Traceback (most recent call last)",
      "Cell \u001b[1;32mIn[23], line 4\u001b[0m\n\u001b[0;32m      2\u001b[0m \u001b[38;5;28mprint\u001b[39m(list1[\u001b[38;5;241m2\u001b[39m])            \u001b[38;5;66;03m# 3\u001b[39;00m\n\u001b[0;32m      3\u001b[0m \u001b[38;5;28mprint\u001b[39m(list1[\u001b[38;5;241m-\u001b[39m\u001b[38;5;241m2\u001b[39m])           \u001b[38;5;66;03m# 9   #taking index value from end of the list\u001b[39;00m\n\u001b[1;32m----> 4\u001b[0m \u001b[38;5;28mprint\u001b[39m(list1[\u001b[38;5;241m20\u001b[39m])\n",
      "\u001b[1;31mIndexError\u001b[0m: list index out of range"
     ]
    }
   ],
   "source": [
    "list1 = [1,2,3,4,5,6,7,8,9,10]\n",
    "print(list1[2])            # 3\n",
    "print(list1[-2])           # 9   #taking index value from end of the list\n",
    "print(list1[20])           # error  # IndexError: list index out of range\n"
   ]
  },
  {
   "cell_type": "markdown",
   "id": "a54064b9-5f2f-4c78-8d6c-2955e13ddf80",
   "metadata": {},
   "source": [
    "* ## Using Slicing"
   ]
  },
  {
   "cell_type": "code",
   "execution_count": 30,
   "id": "a0348131-62ec-4c31-9f25-68e9d894d2a0",
   "metadata": {},
   "outputs": [
    {
     "name": "stdout",
     "output_type": "stream",
     "text": [
      "[3, 4, 5, 6, 7]\n",
      "[1, 2, 3, 4, 5, 6, 7]\n",
      "[3, 4, 5, 6, 7, 8, 9, 10]\n",
      "[1, 3, 5, 7, 9]\n",
      "[10, 9, 8, 7, 6, 5, 4, 3, 2, 1]\n"
     ]
    }
   ],
   "source": [
    "list1 = [1,2,3,4,5,6,7,8,9,10]\n",
    "\n",
    "print(list1[2 : 7])        # from index 1 to 10        :- [3, 4, 5, 6, 7]\n",
    "print(list1[  : 7])        # start to 7th index        :- [1, 2, 3, 4, 5, 6, 7]\n",
    "print(list1[2 :  ])        # 2nd index to end          :- [3, 4, 5, 6, 7, 8, 9, 10]\n",
    "print(list1[ :: 2])        # printing element with having difference of 2 elements          :- [1, 3, 5, 7, 9]\n",
    "print(list1[ :: -1])       # reverse list              :- [10, 9, 8, 7, 6, 5, 4, 3, 2, 1]"
   ]
  },
  {
   "cell_type": "markdown",
   "id": "a934d919-c597-4be7-8f66-97781d9653c2",
   "metadata": {},
   "source": [
    "## **Modifying a List**\n",
    "* ### Adding Elements\n",
    "  * #### **append()** - it will add element at last\n",
    "  * #### **insert(index, value)** - add value to specific index or position\n",
    "  * #### **extend([])** - it will add multiple value "
   ]
  },
  {
   "cell_type": "code",
   "execution_count": 38,
   "id": "99826c69-b30a-4cc1-88b4-a3570feec8de",
   "metadata": {},
   "outputs": [
    {
     "name": "stdout",
     "output_type": "stream",
     "text": [
      "[1, 2, 3, 20, 5, 6, 7, 8, 9, 10]\n",
      "[1, 2, 3, 20, 5, 6, 7, 8, 9, 10, 21]\n",
      "[1, 2, 3, 20, 5, 22, 6, 7, 8, 9, 10, 21]\n",
      "[1, 2, 3, 20, 5, 22, 6, 7, 8, 9, 10, 21, 30, 40, 50]\n"
     ]
    }
   ],
   "source": [
    "list1 = [1,2,3,4,5,6,7,8,9,10]\n",
    "\n",
    "list1[3] = 20           # changing value of index 3 to 20     \n",
    "print(list1)            # [1, 2, 3, 20, 5, 6, 7, 8, 9, 10]\n",
    "\n",
    "list1.append(21)        # adding 21 at last\n",
    "print(list1)            # [1, 2, 3, 20, 5, 6, 7, 8, 9, 10, 21]\n",
    "\n",
    "list1.insert(5,22)      # element add at index 5 of value 22\n",
    "print(list1)            # [1, 2, 3, 20, 5, 22, 6, 7, 8, 9, 10, 21]\n",
    "\n",
    "list1.extend([30,40,50])       # multiple value added at the last \n",
    "print(list1)                   # [1, 2, 3, 20, 5, 22, 6, 7, 8, 9, 10, 21, 30, 40, 50]"
   ]
  },
  {
   "cell_type": "markdown",
   "id": "12d03976-ce02-4cf0-bbe4-8cc593b7feda",
   "metadata": {},
   "source": [
    "## Removing Elements from a list\n",
    "* ### **remove()** - remove value from starting index\n",
    "* ### **pop(index)** - it will remove value from that index and return that removed value\n",
    "* ### **del list[index]** - deleted an value\n",
    "* ### **clear()** - Remove all elements "
   ]
  },
  {
   "cell_type": "code",
   "execution_count": 47,
   "id": "9ae693c2-0ac3-4cce-96f5-d43852c6fa18",
   "metadata": {},
   "outputs": [
    {
     "name": "stdout",
     "output_type": "stream",
     "text": [
      "[1, 2, 20, 5, 22, 6, 7, 8, 9, 10, 21, 30, 40, 50]\n",
      "[1, 2, 20, 22, 6, 7, 8, 9, 10, 21, 30, 40, 50]\n",
      "[1, 2, 20, 6, 7, 8, 9, 10, 21, 30, 40, 50]\n",
      "[]\n"
     ]
    }
   ],
   "source": [
    "list1 = [1, 2, 3, 20, 5, 22, 6, 7, 8, 9, 10, 21, 30, 40, 50]\n",
    "\n",
    "list1.remove(3)          # remove value 3 from list\n",
    "print(list1)             # [1, 2, 20, 5, 22, 6, 7, 8, 9, 10, 21, 30, 40, 50]\n",
    "\n",
    "list1.pop(3)             # remove element from index 3\n",
    "print(list1)             # [1, 2, 20, 22, 6, 7, 8, 9, 10, 21, 30, 40, 50]\n",
    "\n",
    "del list1[3]             # value deleted from index 3\n",
    "print(list1)             # [1, 2, 20, 6, 7, 8, 9, 10, 21, 30, 40, 50]\n",
    "\n",
    "list1.clear()           # remove all elements\n",
    "print(list1)            # []"
   ]
  },
  {
   "cell_type": "markdown",
   "id": "d0c124dc-41af-44c6-a719-972b2e76d2d7",
   "metadata": {},
   "source": [
    "## Finding elements in a List"
   ]
  },
  {
   "cell_type": "code",
   "execution_count": 56,
   "id": "2c66ed8b-3a58-4f06-8acb-6029f8199b4d",
   "metadata": {},
   "outputs": [
    {
     "name": "stdout",
     "output_type": "stream",
     "text": [
      "4\n",
      "1\n"
     ]
    }
   ],
   "source": [
    "list1 = [1, 2, 3, 20, 5, 22, 6, 7, 8, 9, 10, 21, 30, 40, 50]\n",
    "\n",
    "e1 = list1.index(5)        # return the index of value if present if value is not present then error\n",
    "print(e1)                  # 4\n",
    "\n",
    "e2 = list1.count(5)       # return the number of occurance of 5 in hole list\n",
    "print(e2)                 # 1 "
   ]
  },
  {
   "cell_type": "markdown",
   "id": "dd58ceb2-9786-488e-afc3-9fa6c9dffa42",
   "metadata": {},
   "source": [
    "## **Sorting and Reversing**"
   ]
  },
  {
   "cell_type": "code",
   "execution_count": 65,
   "id": "6caf2f0f-e9ee-4c1c-9877-ee25b019ac88",
   "metadata": {},
   "outputs": [
    {
     "name": "stdout",
     "output_type": "stream",
     "text": [
      "None\n"
     ]
    }
   ],
   "source": [
    "list1 = [1, 2, 3, 20, 5, 22, 6, 7, 8, 9, 10, 21, 30, 40, 50]\n",
    "s1 = list1.sort()\n",
    "print(s1)"
   ]
  },
  {
   "cell_type": "code",
   "execution_count": null,
   "id": "bc8e9179-9e7d-4ecf-9ee3-4b570f8ac6b2",
   "metadata": {},
   "outputs": [],
   "source": []
  }
 ],
 "metadata": {
  "kernelspec": {
   "display_name": "Python 3 (ipykernel)",
   "language": "python",
   "name": "python3"
  },
  "language_info": {
   "codemirror_mode": {
    "name": "ipython",
    "version": 3
   },
   "file_extension": ".py",
   "mimetype": "text/x-python",
   "name": "python",
   "nbconvert_exporter": "python",
   "pygments_lexer": "ipython3",
   "version": "3.11.7"
  }
 },
 "nbformat": 4,
 "nbformat_minor": 5
}
