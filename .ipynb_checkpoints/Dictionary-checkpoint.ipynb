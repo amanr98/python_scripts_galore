{
 "cells": [
  {
   "cell_type": "markdown",
   "id": "eb8a94a3-43d8-412c-be10-324bc9debe76",
   "metadata": {},
   "source": [
    "# **Dictionary in Python**\n",
    "* ### Dictionanries are used to store data value in **key : value** pairs.\n",
    "* ### Dictionary is a collection that is **ordered** (from 3.7+ it is ordered before 3.6 it is unordered).\n",
    "* ### They are **mutable** and having in form of keys. "
   ]
  },
  {
   "cell_type": "markdown",
   "id": "a0492a39-9a21-43e9-a90f-385118008517",
   "metadata": {},
   "source": [
    "## Creating Dictionary\n"
   ]
  },
  {
   "cell_type": "code",
   "execution_count": 14,
   "id": "f1a77b37-2b20-4f1e-8f1a-3ff39c852136",
   "metadata": {},
   "outputs": [
    {
     "name": "stdout",
     "output_type": "stream",
     "text": [
      "{'cust_id': 106, 'cust_name': 'aman', 'gender': 'M'}\n",
      "{'cust_id': 106, 'cust_name': 'aman', 'gender': 'M'}\n"
     ]
    }
   ],
   "source": [
    "cust = {\n",
    "    'cust_id' : 106,\n",
    "    'cust_name' : 'aman',                           # Using curly braces \n",
    "    'gender' : 'M'\n",
    "}\n",
    "\n",
    "cust1 = dict(cust_id = 106,cust_name = 'aman', gender = 'M')               # using dict() constructor\n",
    "\n",
    "print(cust)                    # {'cust_id': 106, 'cust_name': 'aman', 'gender': 'M'}\n",
    "print(cust1)                   # {'cust_id': 106, 'cust_name': 'aman', 'gender': 'M'}"
   ]
  },
  {
   "cell_type": "markdown",
   "id": "be7167b1-7ffe-4376-b936-db1cf13a62fd",
   "metadata": {},
   "source": [
    "## Accessing Dictionary Items"
   ]
  },
  {
   "cell_type": "code",
   "execution_count": 98,
   "id": "4d052597-b4ce-4550-9f3a-37b4591f423d",
   "metadata": {},
   "outputs": [
    {
     "ename": "SyntaxError",
     "evalue": "'(' was never closed (4063366963.py, line 50)",
     "output_type": "error",
     "traceback": [
      "\u001b[1;36m  Cell \u001b[1;32mIn[98], line 50\u001b[1;36m\u001b[0m\n\u001b[1;33m    print(\"\\n\"\u001b[0m\n\u001b[1;37m         ^\u001b[0m\n\u001b[1;31mSyntaxError\u001b[0m\u001b[1;31m:\u001b[0m '(' was never closed\n"
     ]
    }
   ],
   "source": [
    "cust = {\n",
    "    'cust_id' : 106,\n",
    "    'cust_name' : 'aman',                  \n",
    "    'gender' : 'M'\n",
    "}\n",
    "\n",
    "# using square brackets []\n",
    "print(cust['cust_name'])             # aman                        \n",
    "#print(cust['cust_age'])             # error  'cust_age' not exist\n",
    "\n",
    "# using all keys() method\n",
    "print(cust.keys())                   # dict_keys(['cust_id', 'cust_name', 'gender'])       \n",
    "\n",
    "# using values() method\n",
    "print(cust.values())                # dict_values([106, 'aman', 'M'])\n",
    "\n",
    " # using get() method\n",
    "print(cust.get('cust_name','not found'))         # aman                                   \n",
    "print(cust.get('cust_age','not found'))          # not found (cust_age is not exist so it print not found )  \n",
    "\n",
    "# using items() method for printing all key : values\n",
    "print(cust.items())                 # dict_items([('cust_id', 106), ('cust_name', 'aman'), ('gender', 'M')])\n",
    "\n",
    "                     print(\"\\n\")      # it is a break statement use to give print in new line\n",
    "\n",
    "# using for loop to print key : values \n",
    "for key in cust:                                                 # cust_id : 106\n",
    "    print(key, \":\", cust[key])                                   # cust_name : aman\n",
    "                                                                 # gender : M\n",
    "\n",
    "                    print(\"\\n\");                  \n",
    "\n",
    "# using for loop to print values \n",
    "for value in cust.values():                                     # 106\n",
    "    print(value)                                                # aman\n",
    "                                                                # M\n",
    "                    print(\"\\n\") \n",
    "\n",
    "# using for loop to iterate over key : value pairs\n",
    "for key, value in cust.items():                                 # cust_id: 106\n",
    "    print(f\"{key}: {value}\")                                    # cust_name: aman\n",
    "                                                                # gender: M\n",
    "\n",
    "                    print(\"\\n\")\n",
    "\n",
    "for key, value in cust.items():\n",
    "    if isinstance(value,str):\n",
    "        print(key, \":\" , value)\n",
    "\n",
    "                    print(\"\\n\")\n",
    "      \n",
    "dept = {\n",
    "\n",
    "    'devloper1' : {'cust_id': 25, 'cust_name':'aman'},                    # created nested dictionary \n",
    "    'devloper2' : {'cust_id': 35, 'cust_name':'alpesh'}\n",
    "}\n",
    "\n",
    "print(dept['devloper1']['cust_name'])  #\n",
    "\n",
    "\n",
    "\n"
   ]
  },
  {
   "cell_type": "code",
   "execution_count": null,
   "id": "a74ac264-acb9-41bf-8425-dc5e92a597da",
   "metadata": {},
   "outputs": [],
   "source": []
  }
 ],
 "metadata": {
  "kernelspec": {
   "display_name": "Python [conda env:base] *",
   "language": "python",
   "name": "conda-base-py"
  },
  "language_info": {
   "codemirror_mode": {
    "name": "ipython",
    "version": 3
   },
   "file_extension": ".py",
   "mimetype": "text/x-python",
   "name": "python",
   "nbconvert_exporter": "python",
   "pygments_lexer": "ipython3",
   "version": "3.12.7"
  }
 },
 "nbformat": 4,
 "nbformat_minor": 5
}
